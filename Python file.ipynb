{
 "cells": [
  {
   "cell_type": "markdown",
   "id": "2202e0ef-b181-42e2-b8eb-b9d98252cef2",
   "metadata": {},
   "source": [
    "## Step 1: Import Required Libraries"
   ]
  },
  {
   "cell_type": "code",
   "execution_count": 1,
   "id": "9e0f143f-9acc-4fac-8e28-a88e5f69cb24",
   "metadata": {},
   "outputs": [],
   "source": [
    "import pandas as pd\n",
    "import numpy as np\n",
    "from sklearn.preprocessing import LabelEncoder\n",
    "from sklearn.decomposition import TruncatedSVD\n",
    "import xgboost as xgb"
   ]
  },
  {
   "cell_type": "markdown",
   "id": "4d253b73-cb30-48e9-97a5-3148fbcc3e6e",
   "metadata": {},
   "source": [
    "## Step 2: Read the Data from train.csv"
   ]
  },
  {
   "cell_type": "code",
   "execution_count": 2,
   "id": "5c5f0d7c-9700-4ffe-8f59-165ef278fdf3",
   "metadata": {},
   "outputs": [
    {
     "name": "stdout",
     "output_type": "stream",
     "text": [
      "   ID       y  X0 X1  X2 X3 X4 X5 X6 X8  ...  X375  X376  X377  X378  X379  \\\n",
      "0   0  130.81   k  v  at  a  d  u  j  o  ...     0     0     1     0     0   \n",
      "1   6   88.53   k  t  av  e  d  y  l  o  ...     1     0     0     0     0   \n",
      "2   7   76.26  az  w   n  c  d  x  j  x  ...     0     0     0     0     0   \n",
      "3   9   80.62  az  t   n  f  d  x  l  e  ...     0     0     0     0     0   \n",
      "4  13   78.02  az  v   n  f  d  h  d  n  ...     0     0     0     0     0   \n",
      "\n",
      "   X380  X382  X383  X384  X385  \n",
      "0     0     0     0     0     0  \n",
      "1     0     0     0     0     0  \n",
      "2     0     1     0     0     0  \n",
      "3     0     0     0     0     0  \n",
      "4     0     0     0     0     0  \n",
      "\n",
      "[5 rows x 378 columns]\n"
     ]
    }
   ],
   "source": [
    "train_df = pd.read_csv(r\"C:\\Users\\sapan\\Downloads\\train.csv\")\n",
    "print(train_df.head())"
   ]
  },
  {
   "cell_type": "markdown",
   "id": "5d9ecd58-77f2-4ffa-8ae8-8d7f1c6b047e",
   "metadata": {},
   "source": [
    "## Step 3: Separate the Target Variable"
   ]
  },
  {
   "cell_type": "code",
   "execution_count": 3,
   "id": "c6383691-f7bc-496c-952a-32e9c23e75d9",
   "metadata": {},
   "outputs": [],
   "source": [
    "# Separating X and y from the dataframe\n",
    "y = train_df['y'].values\n",
    "X = train_df.drop(['ID', 'y'], axis=1)"
   ]
  },
  {
   "cell_type": "markdown",
   "id": "0789fc30-1dca-428d-8556-f1d9d3c66ec5",
   "metadata": {},
   "source": [
    "## Step 4: Understand Data Types"
   ]
  },
  {
   "cell_type": "code",
   "execution_count": 4,
   "id": "61a7373a-081c-4de3-8b78-44313c260bd2",
   "metadata": {},
   "outputs": [
    {
     "name": "stdout",
     "output_type": "stream",
     "text": [
      "X0      object\n",
      "X1      object\n",
      "X2      object\n",
      "X3      object\n",
      "X4      object\n",
      "         ...  \n",
      "X380     int64\n",
      "X382     int64\n",
      "X383     int64\n",
      "X384     int64\n",
      "X385     int64\n",
      "Length: 376, dtype: object\n"
     ]
    }
   ],
   "source": [
    "print(X.dtypes)"
   ]
  },
  {
   "cell_type": "markdown",
   "id": "f1c3c0ce-1cd0-47ce-bbf6-45ca97221e36",
   "metadata": {},
   "source": [
    "## Step 5: Count Data in Columns"
   ]
  },
  {
   "cell_type": "code",
   "execution_count": 5,
   "id": "3cc27d99-7f58-46e2-9da9-574efe02cf18",
   "metadata": {},
   "outputs": [
    {
     "name": "stdout",
     "output_type": "stream",
     "text": [
      "X0      47\n",
      "X1      27\n",
      "X2      44\n",
      "X3       7\n",
      "X4       4\n",
      "        ..\n",
      "X380     2\n",
      "X382     2\n",
      "X383     2\n",
      "X384     2\n",
      "X385     2\n",
      "Length: 376, dtype: int64\n"
     ]
    }
   ],
   "source": [
    "print(X.apply(pd.Series.nunique))"
   ]
  },
  {
   "cell_type": "markdown",
   "id": "9d45c533-29bc-45db-9a93-5e5c38942cc1",
   "metadata": {},
   "source": [
    "## Step 6: Read test.csv Data"
   ]
  },
  {
   "cell_type": "code",
   "execution_count": 6,
   "id": "5b49f682-bf60-4ac9-a208-0d8233ae2768",
   "metadata": {},
   "outputs": [],
   "source": [
    "test_df = pd.read_csv(r\"C:\\Users\\sapan\\Downloads\\test.csv\")\n",
    "# Dropping the ID column from the test dataframe\n",
    "test_df = test_df.drop(['ID'], axis=1)"
   ]
  },
  {
   "cell_type": "markdown",
   "id": "57a9207a-55c2-46a7-b384-a383983c1695",
   "metadata": {},
   "source": [
    "## Step 7: Check for Null Values"
   ]
  },
  {
   "cell_type": "code",
   "execution_count": 7,
   "id": "2ba847d9-dc67-4137-a50e-7ef5c5d350d1",
   "metadata": {},
   "outputs": [
    {
     "name": "stdout",
     "output_type": "stream",
     "text": [
      "ID      0\n",
      "y       0\n",
      "X0      0\n",
      "X1      0\n",
      "X2      0\n",
      "       ..\n",
      "X380    0\n",
      "X382    0\n",
      "X383    0\n",
      "X384    0\n",
      "X385    0\n",
      "Length: 378, dtype: int64\n",
      "X0      0\n",
      "X1      0\n",
      "X2      0\n",
      "X3      0\n",
      "X4      0\n",
      "       ..\n",
      "X380    0\n",
      "X382    0\n",
      "X383    0\n",
      "X384    0\n",
      "X385    0\n",
      "Length: 376, dtype: int64\n"
     ]
    }
   ],
   "source": [
    "print(train_df.isnull().sum())\n",
    "print(test_df.isnull().sum())"
   ]
  },
  {
   "cell_type": "markdown",
   "id": "c3905a64-a7dc-4f1f-8579-1177c63e7368",
   "metadata": {},
   "source": [
    "## Step 8: Remove Zero-Variance Columns and Apply Label Encoder"
   ]
  },
  {
   "cell_type": "code",
   "execution_count": 8,
   "id": "e5ef8f3c-6882-4da6-8a7a-3eb2d3269407",
   "metadata": {},
   "outputs": [
    {
     "name": "stderr",
     "output_type": "stream",
     "text": [
      "C:\\Users\\sapan\\AppData\\Local\\Temp\\ipykernel_19452\\3396747123.py:19: SettingWithCopyWarning: \n",
      "A value is trying to be set on a copy of a slice from a DataFrame.\n",
      "Try using .loc[row_indexer,col_indexer] = value instead\n",
      "\n",
      "See the caveats in the documentation: https://pandas.pydata.org/pandas-docs/stable/user_guide/indexing.html#returning-a-view-versus-a-copy\n",
      "  train_df['y'] = train_labels\n"
     ]
    }
   ],
   "source": [
    "# Combining train and test data for preprocessing\n",
    "train_labels = train_df['y']\n",
    "train_df.drop(['y'], axis=1, inplace=True)\n",
    "df = pd.concat([train_df, test_df])\n",
    "\n",
    "# Apply label encoding and remove zero-variance features on combined data\n",
    "for column in df.columns:\n",
    "    if df[column].dtype == type(object):\n",
    "        le = LabelEncoder()\n",
    "        df[column] = le.fit_transform(df[column].astype(str))\n",
    "\n",
    "df = df.loc[:, df.var() != 0]\n",
    "\n",
    "# Split the combined dataset back into train and test\n",
    "train_df = df.iloc[:train_df.shape[0]]\n",
    "test_df = df.iloc[train_df.shape[0]:]\n",
    "\n",
    "# Add the target variable back to train_df\n",
    "train_df['y'] = train_labels"
   ]
  },
  {
   "cell_type": "markdown",
   "id": "19b4a475-00e9-43bc-9d69-3f7f0bf57691",
   "metadata": {},
   "source": [
    "## Step 9: Checking if the data is in numerical format"
   ]
  },
  {
   "cell_type": "code",
   "execution_count": 9,
   "id": "3ef1b29b-bf86-47bb-81d9-961a370f6564",
   "metadata": {},
   "outputs": [
    {
     "name": "stdout",
     "output_type": "stream",
     "text": [
      "ID      float64\n",
      "X0        int32\n",
      "X1        int32\n",
      "X2        int32\n",
      "X3        int32\n",
      "         ...   \n",
      "X382      int64\n",
      "X383      int64\n",
      "X384      int64\n",
      "X385      int64\n",
      "y       float64\n",
      "Length: 378, dtype: object\n",
      "ID      float64\n",
      "X0        int32\n",
      "X1        int32\n",
      "X2        int32\n",
      "X3        int32\n",
      "         ...   \n",
      "X380      int64\n",
      "X382      int64\n",
      "X383      int64\n",
      "X384      int64\n",
      "X385      int64\n",
      "Length: 377, dtype: object\n"
     ]
    }
   ],
   "source": [
    "print(train_df.dtypes)\n",
    "print(test_df.dtypes)"
   ]
  },
  {
   "cell_type": "markdown",
   "id": "fd2ee9a1-472a-4bc5-ba56-b66c94c84524",
   "metadata": {},
   "source": [
    "## Step 10: Dimensionality Reduction using SVD"
   ]
  },
  {
   "cell_type": "code",
   "execution_count": 10,
   "id": "af4e0908-091f-417a-9795-495d5f67da7e",
   "metadata": {},
   "outputs": [],
   "source": [
    "svd = TruncatedSVD(n_components=20, random_state=42)\n",
    "X_dim_red = svd.fit_transform(train_df.drop(['ID', 'y'], axis=1))\n",
    "test_dim_red = svd.transform(test_df.drop(['ID'], axis=1))"
   ]
  },
  {
   "cell_type": "markdown",
   "id": "d9c8784d-df2f-4f0b-89f9-9a39b3547017",
   "metadata": {},
   "source": [
    "## Step 11: Train the Model using XGBoost"
   ]
  },
  {
   "cell_type": "code",
   "execution_count": 11,
   "id": "c61eec8e-4342-4e55-96db-988b5754e892",
   "metadata": {},
   "outputs": [
    {
     "data": {
      "text/html": [
       "<style>#sk-container-id-1 {color: black;}#sk-container-id-1 pre{padding: 0;}#sk-container-id-1 div.sk-toggleable {background-color: white;}#sk-container-id-1 label.sk-toggleable__label {cursor: pointer;display: block;width: 100%;margin-bottom: 0;padding: 0.3em;box-sizing: border-box;text-align: center;}#sk-container-id-1 label.sk-toggleable__label-arrow:before {content: \"▸\";float: left;margin-right: 0.25em;color: #696969;}#sk-container-id-1 label.sk-toggleable__label-arrow:hover:before {color: black;}#sk-container-id-1 div.sk-estimator:hover label.sk-toggleable__label-arrow:before {color: black;}#sk-container-id-1 div.sk-toggleable__content {max-height: 0;max-width: 0;overflow: hidden;text-align: left;background-color: #f0f8ff;}#sk-container-id-1 div.sk-toggleable__content pre {margin: 0.2em;color: black;border-radius: 0.25em;background-color: #f0f8ff;}#sk-container-id-1 input.sk-toggleable__control:checked~div.sk-toggleable__content {max-height: 200px;max-width: 100%;overflow: auto;}#sk-container-id-1 input.sk-toggleable__control:checked~label.sk-toggleable__label-arrow:before {content: \"▾\";}#sk-container-id-1 div.sk-estimator input.sk-toggleable__control:checked~label.sk-toggleable__label {background-color: #d4ebff;}#sk-container-id-1 div.sk-label input.sk-toggleable__control:checked~label.sk-toggleable__label {background-color: #d4ebff;}#sk-container-id-1 input.sk-hidden--visually {border: 0;clip: rect(1px 1px 1px 1px);clip: rect(1px, 1px, 1px, 1px);height: 1px;margin: -1px;overflow: hidden;padding: 0;position: absolute;width: 1px;}#sk-container-id-1 div.sk-estimator {font-family: monospace;background-color: #f0f8ff;border: 1px dotted black;border-radius: 0.25em;box-sizing: border-box;margin-bottom: 0.5em;}#sk-container-id-1 div.sk-estimator:hover {background-color: #d4ebff;}#sk-container-id-1 div.sk-parallel-item::after {content: \"\";width: 100%;border-bottom: 1px solid gray;flex-grow: 1;}#sk-container-id-1 div.sk-label:hover label.sk-toggleable__label {background-color: #d4ebff;}#sk-container-id-1 div.sk-serial::before {content: \"\";position: absolute;border-left: 1px solid gray;box-sizing: border-box;top: 0;bottom: 0;left: 50%;z-index: 0;}#sk-container-id-1 div.sk-serial {display: flex;flex-direction: column;align-items: center;background-color: white;padding-right: 0.2em;padding-left: 0.2em;position: relative;}#sk-container-id-1 div.sk-item {position: relative;z-index: 1;}#sk-container-id-1 div.sk-parallel {display: flex;align-items: stretch;justify-content: center;background-color: white;position: relative;}#sk-container-id-1 div.sk-item::before, #sk-container-id-1 div.sk-parallel-item::before {content: \"\";position: absolute;border-left: 1px solid gray;box-sizing: border-box;top: 0;bottom: 0;left: 50%;z-index: -1;}#sk-container-id-1 div.sk-parallel-item {display: flex;flex-direction: column;z-index: 1;position: relative;background-color: white;}#sk-container-id-1 div.sk-parallel-item:first-child::after {align-self: flex-end;width: 50%;}#sk-container-id-1 div.sk-parallel-item:last-child::after {align-self: flex-start;width: 50%;}#sk-container-id-1 div.sk-parallel-item:only-child::after {width: 0;}#sk-container-id-1 div.sk-dashed-wrapped {border: 1px dashed gray;margin: 0 0.4em 0.5em 0.4em;box-sizing: border-box;padding-bottom: 0.4em;background-color: white;}#sk-container-id-1 div.sk-label label {font-family: monospace;font-weight: bold;display: inline-block;line-height: 1.2em;}#sk-container-id-1 div.sk-label-container {text-align: center;}#sk-container-id-1 div.sk-container {/* jupyter's `normalize.less` sets `[hidden] { display: none; }` but bootstrap.min.css set `[hidden] { display: none !important; }` so we also need the `!important` here to be able to override the default hidden behavior on the sphinx rendered scikit-learn.org. See: https://github.com/scikit-learn/scikit-learn/issues/21755 */display: inline-block !important;position: relative;}#sk-container-id-1 div.sk-text-repr-fallback {display: none;}</style><div id=\"sk-container-id-1\" class=\"sk-top-container\"><div class=\"sk-text-repr-fallback\"><pre>XGBRegressor(base_score=None, booster=None, callbacks=None,\n",
       "             colsample_bylevel=None, colsample_bynode=None,\n",
       "             colsample_bytree=None, device=None, early_stopping_rounds=None,\n",
       "             enable_categorical=False, eval_metric=None, feature_types=None,\n",
       "             gamma=None, grow_policy=None, importance_type=None,\n",
       "             interaction_constraints=None, learning_rate=None, max_bin=None,\n",
       "             max_cat_threshold=None, max_cat_to_onehot=None,\n",
       "             max_delta_step=None, max_depth=None, max_leaves=None,\n",
       "             min_child_weight=None, missing=nan, monotone_constraints=None,\n",
       "             multi_strategy=None, n_estimators=None, n_jobs=None,\n",
       "             num_parallel_tree=None, random_state=None, ...)</pre><b>In a Jupyter environment, please rerun this cell to show the HTML representation or trust the notebook. <br />On GitHub, the HTML representation is unable to render, please try loading this page with nbviewer.org.</b></div><div class=\"sk-container\" hidden><div class=\"sk-item\"><div class=\"sk-estimator sk-toggleable\"><input class=\"sk-toggleable__control sk-hidden--visually\" id=\"sk-estimator-id-1\" type=\"checkbox\" checked><label for=\"sk-estimator-id-1\" class=\"sk-toggleable__label sk-toggleable__label-arrow\">XGBRegressor</label><div class=\"sk-toggleable__content\"><pre>XGBRegressor(base_score=None, booster=None, callbacks=None,\n",
       "             colsample_bylevel=None, colsample_bynode=None,\n",
       "             colsample_bytree=None, device=None, early_stopping_rounds=None,\n",
       "             enable_categorical=False, eval_metric=None, feature_types=None,\n",
       "             gamma=None, grow_policy=None, importance_type=None,\n",
       "             interaction_constraints=None, learning_rate=None, max_bin=None,\n",
       "             max_cat_threshold=None, max_cat_to_onehot=None,\n",
       "             max_delta_step=None, max_depth=None, max_leaves=None,\n",
       "             min_child_weight=None, missing=nan, monotone_constraints=None,\n",
       "             multi_strategy=None, n_estimators=None, n_jobs=None,\n",
       "             num_parallel_tree=None, random_state=None, ...)</pre></div></div></div></div></div>"
      ],
      "text/plain": [
       "XGBRegressor(base_score=None, booster=None, callbacks=None,\n",
       "             colsample_bylevel=None, colsample_bynode=None,\n",
       "             colsample_bytree=None, device=None, early_stopping_rounds=None,\n",
       "             enable_categorical=False, eval_metric=None, feature_types=None,\n",
       "             gamma=None, grow_policy=None, importance_type=None,\n",
       "             interaction_constraints=None, learning_rate=None, max_bin=None,\n",
       "             max_cat_threshold=None, max_cat_to_onehot=None,\n",
       "             max_delta_step=None, max_depth=None, max_leaves=None,\n",
       "             min_child_weight=None, missing=nan, monotone_constraints=None,\n",
       "             multi_strategy=None, n_estimators=None, n_jobs=None,\n",
       "             num_parallel_tree=None, random_state=None, ...)"
      ]
     },
     "execution_count": 11,
     "metadata": {},
     "output_type": "execute_result"
    }
   ],
   "source": [
    "model = xgb.XGBRegressor(objective ='reg:squarederror')\n",
    "model.fit(X_dim_red, y)"
   ]
  },
  {
   "cell_type": "markdown",
   "id": "121098d7-6667-4adf-9cad-7e58543beb87",
   "metadata": {},
   "source": [
    "## Step 12: Predict test_df Values"
   ]
  },
  {
   "cell_type": "code",
   "execution_count": 12,
   "id": "e80d0fe4-057e-400e-ac1b-6716dc2cceba",
   "metadata": {},
   "outputs": [],
   "source": [
    "predictions = model.predict(test_dim_red)"
   ]
  },
  {
   "cell_type": "markdown",
   "id": "00fe4b77-634e-4256-a96b-7477d16da2a1",
   "metadata": {},
   "source": [
    "## Step 13: Evaluate the performance"
   ]
  },
  {
   "cell_type": "code",
   "execution_count": 14,
   "id": "dc8fbde6-ad22-474f-9d83-8e38ec9bfb0d",
   "metadata": {},
   "outputs": [
    {
     "name": "stdout",
     "output_type": "stream",
     "text": [
      "Mean Squared Error on Training Set: 9.239454067854\n",
      "R² Score on Training Set: 0.9425151527087171\n"
     ]
    }
   ],
   "source": [
    "from sklearn.metrics import mean_squared_error, r2_score\n",
    "\n",
    "# Predict on the training set\n",
    "train_predictions = model.predict(X_dim_red)\n",
    "\n",
    "# Calculate MSE and R² Score\n",
    "mse = mean_squared_error(train_df['y'], train_predictions)\n",
    "r2 = r2_score(train_df['y'], train_predictions)\n",
    "\n",
    "print(\"Mean Squared Error on Training Set:\", mse)\n",
    "print(\"R² Score on Training Set:\", r2)"
   ]
  },
  {
   "cell_type": "markdown",
   "id": "fe3e5b15-4c46-4465-ba01-da5c2c75de1b",
   "metadata": {},
   "source": [
    "## Hence, R² = 0.94 indicates a high level of correlation between our model's predictions and the actual values."
   ]
  },
  {
   "cell_type": "code",
   "execution_count": null,
   "id": "5d364101-a9fb-4657-a87d-2ba0dcfb0b68",
   "metadata": {},
   "outputs": [],
   "source": []
  }
 ],
 "metadata": {
  "kernelspec": {
   "display_name": "Python 3 (ipykernel)",
   "language": "python",
   "name": "python3"
  },
  "language_info": {
   "codemirror_mode": {
    "name": "ipython",
    "version": 3
   },
   "file_extension": ".py",
   "mimetype": "text/x-python",
   "name": "python",
   "nbconvert_exporter": "python",
   "pygments_lexer": "ipython3",
   "version": "3.11.5"
  }
 },
 "nbformat": 4,
 "nbformat_minor": 5
}
